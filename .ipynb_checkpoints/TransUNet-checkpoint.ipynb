{
 "cells": [
  {
   "cell_type": "code",
   "execution_count": 1,
   "id": "12b6196a-ee28-43b3-9a4d-2c3029fe66f2",
   "metadata": {},
   "outputs": [],
   "source": [
    "import tensorflow as tf\n",
    "from tensorflow.keras import layers, models"
   ]
  },
  {
   "cell_type": "code",
   "execution_count": 3,
   "id": "953f3c59-ba80-44c3-a36d-ed5441434266",
   "metadata": {},
   "outputs": [],
   "source": [
    "class PatchEmbedding(layers.Layer):\n",
    "    def __init__(self, patch_size, emb_dim):\n",
    "        super().__init__()\n",
    "        self.patch_size = patch_size\n",
    "        self.proj = layers.Conv2D(emb_dim, kernel_size=patch_size, strides=patch_size)\n",
    "        self.norm = layers.LayerNormalization(epsilon=1e-6)\n",
    "\n",
    "    def call(self, x):\n",
    "        x = self.proj(x)\n",
    "        x = tf.reshape(x, [tf.shape(x)[0], -1, tf.shape(x)[-1]])\n",
    "        return self.norm(x)\n",
    "\n",
    "\n",
    "class MLP(layers.Layer):\n",
    "    def __init__(self, hidden_units, output_units, dropout_rate):\n",
    "        super().__init__()\n",
    "        self.fc1 = layers.Dense(hidden_units, activation='gelu')\n",
    "        self.dropout = layers.Dropout(dropout_rate)\n",
    "        self.fc2 = layers.Dense(output_units)\n",
    "\n",
    "    def call(self, x):\n",
    "        x = self.fc1(x)\n",
    "        x = self.dropout(x)\n",
    "        x = self.fc2(x)\n",
    "        return self.dropout(x)\n",
    "\n",
    "\n",
    "\n",
    "class TransformerBlock(layers.Layer):\n",
    "    def __init__(self, embed_dim, num_heads, mlp_dim, dropout_rate):\n",
    "        super().__init__()\n",
    "        self.norm1 = layers.LayerNormalization(epsilon=1e-6)\n",
    "        self.attn = layers.MultiHeadAttention(num_heads=num_heads, key_dim=embed_dim)\n",
    "        self.dropout = layers.Dropout(dropout_rate)\n",
    "        self.norm2 = layers.LayerNormalization(epsilon=1e-6)\n",
    "        self.mlp = MLP(mlp_dim, dropout_rate)\n",
    "\n",
    "    def call(self, x):\n",
    "        x1 = self.norm1(x)\n",
    "        attn_output = self.attn(x1, x1)\n",
    "        x2 = self.dropout(attn_output) + x\n",
    "        x3 = self.norm2(x2)\n",
    "        return self.mlp(x3) + x2\n",
    "\n",
    "\n",
    "class TransUNet(tf.keras.Model):\n",
    "    def __init__(self, input_shape=(384, 384, 3), patch_size=16, emb_dim=768,\n",
    "                 num_blocks=8, num_heads=8, mlp_dim=3072, dropout_rate=0.1):\n",
    "        super().__init__()\n",
    "        self.input_layer = layers.Input(shape=input_shape)\n",
    "        self.encoder = PatchEmbedding(patch_size, emb_dim)\n",
    "        self.transformer_blocks = [\n",
    "            TransformerBlock(emb_dim, num_heads, mlp_dim, dropout_rate)\n",
    "            for _ in range(num_blocks)\n",
    "        ]\n",
    "        self.reshape = layers.Reshape((input_shape[0] // patch_size, input_shape[1] // patch_size, emb_dim))\n",
    "\n",
    "        self.decoder = models.Sequential([\n",
    "            layers.Conv2DTranspose(256, 3, strides=2, padding=\"same\", activation='relu'),\n",
    "            layers.Conv2DTranspose(128, 3, strides=2, padding=\"same\", activation='relu'),\n",
    "            layers.Conv2DTranspose(64, 3, strides=2, padding=\"same\", activation='relu'),\n",
    "            layers.Conv2D(1, kernel_size=1, activation='sigmoid')\n",
    "        ])\n",
    "\n",
    "    def call(self, inputs):\n",
    "        x = self.encoder(inputs)\n",
    "        for block in self.transformer_blocks:\n",
    "            x = block(x)\n",
    "        x = self.reshape(x)\n",
    "        return self.decoder(x)"
   ]
  },
  {
   "cell_type": "code",
   "execution_count": 5,
   "id": "922a3a71-d943-4512-a908-ad384f888970",
   "metadata": {},
   "outputs": [
    {
     "ename": "InvalidArgumentError",
     "evalue": "Exception encountered when calling TransformerBlock.call().\n\n\u001b[1m{{function_node __wrapped__AddV2_device_/job:localhost/replica:0/task:0/device:CPU:0}} Incompatible shapes: [1,576,3072] vs. [1,576,768] [Op:AddV2] name: \u001b[0m\n\nArguments received by TransformerBlock.call():\n  • x=tf.Tensor(shape=(1, 576, 768), dtype=float32)",
     "output_type": "error",
     "traceback": [
      "\u001b[1;31m---------------------------------------------------------------------------\u001b[0m",
      "\u001b[1;31mInvalidArgumentError\u001b[0m                      Traceback (most recent call last)",
      "Cell \u001b[1;32mIn[5], line 4\u001b[0m\n\u001b[0;32m      2\u001b[0m model \u001b[38;5;241m=\u001b[39m TransUNet()\n\u001b[0;32m      3\u001b[0m dummy_input \u001b[38;5;241m=\u001b[39m tf\u001b[38;5;241m.\u001b[39mrandom\u001b[38;5;241m.\u001b[39mnormal([\u001b[38;5;241m1\u001b[39m, \u001b[38;5;241m384\u001b[39m, \u001b[38;5;241m384\u001b[39m, \u001b[38;5;241m3\u001b[39m])\n\u001b[1;32m----> 4\u001b[0m dummy_output \u001b[38;5;241m=\u001b[39m \u001b[43mmodel\u001b[49m\u001b[43m(\u001b[49m\u001b[43mdummy_input\u001b[49m\u001b[43m)\u001b[49m\n\u001b[0;32m      5\u001b[0m \u001b[38;5;28mprint\u001b[39m(\u001b[38;5;124m\"\u001b[39m\u001b[38;5;124mOutput shape:\u001b[39m\u001b[38;5;124m\"\u001b[39m, dummy_output\u001b[38;5;241m.\u001b[39mshape)\n",
      "File \u001b[1;32m~\\anaconda3\\Lib\\site-packages\\keras\\src\\utils\\traceback_utils.py:122\u001b[0m, in \u001b[0;36mfilter_traceback.<locals>.error_handler\u001b[1;34m(*args, **kwargs)\u001b[0m\n\u001b[0;32m    119\u001b[0m     filtered_tb \u001b[38;5;241m=\u001b[39m _process_traceback_frames(e\u001b[38;5;241m.\u001b[39m__traceback__)\n\u001b[0;32m    120\u001b[0m     \u001b[38;5;66;03m# To get the full stack trace, call:\u001b[39;00m\n\u001b[0;32m    121\u001b[0m     \u001b[38;5;66;03m# `keras.config.disable_traceback_filtering()`\u001b[39;00m\n\u001b[1;32m--> 122\u001b[0m     \u001b[38;5;28;01mraise\u001b[39;00m e\u001b[38;5;241m.\u001b[39mwith_traceback(filtered_tb) \u001b[38;5;28;01mfrom\u001b[39;00m \u001b[38;5;28;01mNone\u001b[39;00m\n\u001b[0;32m    123\u001b[0m \u001b[38;5;28;01mfinally\u001b[39;00m:\n\u001b[0;32m    124\u001b[0m     \u001b[38;5;28;01mdel\u001b[39;00m filtered_tb\n",
      "Cell \u001b[1;32mIn[3], line 67\u001b[0m, in \u001b[0;36mTransUNet.call\u001b[1;34m(self, inputs)\u001b[0m\n\u001b[0;32m     65\u001b[0m x \u001b[38;5;241m=\u001b[39m \u001b[38;5;28mself\u001b[39m\u001b[38;5;241m.\u001b[39mencoder(inputs)\n\u001b[0;32m     66\u001b[0m \u001b[38;5;28;01mfor\u001b[39;00m block \u001b[38;5;129;01min\u001b[39;00m \u001b[38;5;28mself\u001b[39m\u001b[38;5;241m.\u001b[39mtransformer_blocks:\n\u001b[1;32m---> 67\u001b[0m     x \u001b[38;5;241m=\u001b[39m \u001b[43mblock\u001b[49m\u001b[43m(\u001b[49m\u001b[43mx\u001b[49m\u001b[43m)\u001b[49m\n\u001b[0;32m     68\u001b[0m x \u001b[38;5;241m=\u001b[39m \u001b[38;5;28mself\u001b[39m\u001b[38;5;241m.\u001b[39mreshape(x)\n\u001b[0;32m     69\u001b[0m \u001b[38;5;28;01mreturn\u001b[39;00m \u001b[38;5;28mself\u001b[39m\u001b[38;5;241m.\u001b[39mdecoder(x)\n",
      "Cell \u001b[1;32mIn[3], line 42\u001b[0m, in \u001b[0;36mTransformerBlock.call\u001b[1;34m(self, x)\u001b[0m\n\u001b[0;32m     40\u001b[0m x2 \u001b[38;5;241m=\u001b[39m \u001b[38;5;28mself\u001b[39m\u001b[38;5;241m.\u001b[39mdropout(attn_output) \u001b[38;5;241m+\u001b[39m x\n\u001b[0;32m     41\u001b[0m x3 \u001b[38;5;241m=\u001b[39m \u001b[38;5;28mself\u001b[39m\u001b[38;5;241m.\u001b[39mnorm2(x2)\n\u001b[1;32m---> 42\u001b[0m \u001b[38;5;28;01mreturn\u001b[39;00m \u001b[38;5;28;43mself\u001b[39;49m\u001b[38;5;241;43m.\u001b[39;49m\u001b[43mmlp\u001b[49m\u001b[43m(\u001b[49m\u001b[43mx3\u001b[49m\u001b[43m)\u001b[49m\u001b[43m \u001b[49m\u001b[38;5;241;43m+\u001b[39;49m\u001b[43m \u001b[49m\u001b[43mx2\u001b[49m\n",
      "\u001b[1;31mInvalidArgumentError\u001b[0m: Exception encountered when calling TransformerBlock.call().\n\n\u001b[1m{{function_node __wrapped__AddV2_device_/job:localhost/replica:0/task:0/device:CPU:0}} Incompatible shapes: [1,576,3072] vs. [1,576,768] [Op:AddV2] name: \u001b[0m\n\nArguments received by TransformerBlock.call():\n  • x=tf.Tensor(shape=(1, 576, 768), dtype=float32)"
     ]
    }
   ],
   "source": [
    "if __name__ == '__main__':\n",
    "    model = TransUNet()\n",
    "    dummy_input = tf.random.normal([1, 384, 384, 3])\n",
    "    dummy_output = model(dummy_input)\n",
    "    print(\"Output shape:\", dummy_output.shape)"
   ]
  },
  {
   "cell_type": "code",
   "execution_count": null,
   "id": "a1653418-ef4e-4730-a59e-84739b12d0da",
   "metadata": {},
   "outputs": [],
   "source": []
  }
 ],
 "metadata": {
  "kernelspec": {
   "display_name": "Python 3 (ipykernel)",
   "language": "python",
   "name": "python3"
  },
  "language_info": {
   "codemirror_mode": {
    "name": "ipython",
    "version": 3
   },
   "file_extension": ".py",
   "mimetype": "text/x-python",
   "name": "python",
   "nbconvert_exporter": "python",
   "pygments_lexer": "ipython3",
   "version": "3.12.7"
  }
 },
 "nbformat": 4,
 "nbformat_minor": 5
}
