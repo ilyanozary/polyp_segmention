{
 "cells": [
  {
   "cell_type": "code",
   "execution_count": 1,
   "id": "12b6196a-ee28-43b3-9a4d-2c3029fe66f2",
   "metadata": {},
   "outputs": [],
   "source": [
    "import tensorflow as tf\n",
    "from tensorflow.keras import layers, models"
   ]
  },
  {
   "cell_type": "code",
   "execution_count": 2,
   "id": "953f3c59-ba80-44c3-a36d-ed5441434266",
   "metadata": {},
   "outputs": [],
   "source": [
    "class PatchEmbedding(layers.Layer):\n",
    "    def __init__(self, patch_size, emb_dim):\n",
    "        super().__init__()\n",
    "        self.patch_size = patch_size\n",
    "        self.proj = layers.Conv2D(emb_dim, kernel_size=patch_size, strides=patch_size)\n",
    "        self.norm = layers.LayerNormalization(epsilon=1e-6)\n",
    "\n",
    "    def call(self, x):\n",
    "        x = self.proj(x)\n",
    "        x = tf.reshape(x, [tf.shape(x)[0], -1, tf.shape(x)[-1]])\n",
    "        return self.norm(x)\n",
    "\n",
    "\n",
    "class MLP(layers.Layer):\n",
    "    def __init__(self, hidden_units, output_units, dropout_rate):\n",
    "        super().__init__()\n",
    "        self.fc1 = layers.Dense(hidden_units, activation='gelu')\n",
    "        self.dropout = layers.Dropout(dropout_rate)\n",
    "        self.fc2 = layers.Dense(output_units)\n",
    "\n",
    "    def call(self, x):\n",
    "        x = self.fc1(x)\n",
    "        x = self.dropout(x)\n",
    "        x = self.fc2(x)\n",
    "        return self.dropout(x)\n",
    "\n",
    "\n",
    "\n",
    "class TransformerBlock(layers.Layer):\n",
    "    def __init__(self, embed_dim, num_heads, mlp_dim, dropout_rate):\n",
    "        super().__init__()\n",
    "        self.norm1 = layers.LayerNormalization(epsilon=1e-6)\n",
    "        self.attn = layers.MultiHeadAttention(num_heads=num_heads, key_dim=embed_dim)\n",
    "        self.dropout = layers.Dropout(dropout_rate)\n",
    "        self.norm2 = layers.LayerNormalization(epsilon=1e-6)\n",
    "        self.mlp = MLP(mlp_dim, embed_dim, dropout_rate)\n",
    "\n",
    "\n",
    "    def call(self, x):\n",
    "        x1 = self.norm1(x)\n",
    "        attn_output = self.attn(x1, x1)\n",
    "        x2 = self.dropout(attn_output) + x\n",
    "        x3 = self.norm2(x2)\n",
    "        return self.mlp(x3) + x2\n",
    "\n",
    "\n",
    "class TransUNet(tf.keras.Model):\n",
    "    def __init__(self, input_shape=(384, 384, 3), patch_size=16, emb_dim=768,\n",
    "                 num_blocks=8, num_heads=8, mlp_dim=3072, dropout_rate=0.1):\n",
    "        super().__init__()\n",
    "        self.input_layer = layers.Input(shape=input_shape)\n",
    "        self.encoder = PatchEmbedding(patch_size, emb_dim)\n",
    "        self.transformer_blocks = [\n",
    "            TransformerBlock(emb_dim, num_heads, mlp_dim, dropout_rate)\n",
    "            for _ in range(num_blocks)\n",
    "        ]\n",
    "        self.reshape = layers.Reshape((input_shape[0] // patch_size, input_shape[1] // patch_size, emb_dim))\n",
    "\n",
    "        self.decoder = models.Sequential([\n",
    "            layers.Conv2DTranspose(256, 3, strides=2, padding=\"same\", activation='relu'),\n",
    "            layers.Conv2DTranspose(128, 3, strides=2, padding=\"same\", activation='relu'),\n",
    "            layers.Conv2DTranspose(64, 3, strides=2, padding=\"same\", activation='relu'),\n",
    "            layers.Conv2D(1, kernel_size=1, activation='sigmoid')\n",
    "        ])\n",
    "\n",
    "    def call(self, inputs):\n",
    "        x = self.encoder(inputs)\n",
    "        for block in self.transformer_blocks:\n",
    "            x = block(x)\n",
    "        x = self.reshape(x)\n",
    "        return self.decoder(x)"
   ]
  },
  {
   "cell_type": "code",
   "execution_count": 3,
   "id": "922a3a71-d943-4512-a908-ad384f888970",
   "metadata": {},
   "outputs": [
    {
     "name": "stdout",
     "output_type": "stream",
     "text": [
      "Output shape: (1, 192, 192, 1)\n"
     ]
    }
   ],
   "source": [
    "if __name__ == '__main__':\n",
    "    model = TransUNet()\n",
    "    dummy_input = tf.random.normal([1, 384, 384, 3])\n",
    "    dummy_output = model(dummy_input)\n",
    "    print(\"Output shape:\", dummy_output.shape)"
   ]
  },
  {
   "cell_type": "markdown",
   "id": "623b3db4-b46a-42e9-92be-04d6edac99eb",
   "metadata": {},
   "source": [
    "# training"
   ]
  },
  {
   "cell_type": "code",
   "execution_count": null,
   "id": "e64f5073-c48c-4736-9965-35af3341793f",
   "metadata": {},
   "outputs": [],
   "source": []
  }
 ],
 "metadata": {
  "kernelspec": {
   "display_name": "Python 3",
   "language": "python",
   "name": "python3"
  },
  "language_info": {
   "codemirror_mode": {
    "name": "ipython",
    "version": 3
   },
   "file_extension": ".py",
   "mimetype": "text/x-python",
   "name": "python",
   "nbconvert_exporter": "python",
   "pygments_lexer": "ipython3",
   "version": "3.12.8"
  }
 },
 "nbformat": 4,
 "nbformat_minor": 5
}
